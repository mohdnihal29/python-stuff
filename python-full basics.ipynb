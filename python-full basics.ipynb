{
 "cells": [
  {
   "cell_type": "code",
   "execution_count": 7,
   "id": "901e96da",
   "metadata": {},
   "outputs": [],
   "source": [
    "x = [3,4,5,6,7,8,9,10]"
   ]
  },
  {
   "cell_type": "code",
   "execution_count": 11,
   "id": "8da758c0",
   "metadata": {},
   "outputs": [
    {
     "name": "stdout",
     "output_type": "stream",
     "text": [
      "0 3\n",
      "1 4\n",
      "2 5\n",
      "3 6\n",
      "4 7\n",
      "5 8\n",
      "6 9\n",
      "7 10\n"
     ]
    }
   ],
   "source": [
    "for i, element in enumerate(x) :\n",
    "    print(i, element)\n",
    "\n",
    "    \n"
   ]
  },
  {
   "cell_type": "code",
   "execution_count": 18,
   "id": "81bbff9d",
   "metadata": {},
   "outputs": [
    {
     "name": "stdout",
     "output_type": "stream",
     "text": [
      "run\n"
     ]
    }
   ],
   "source": [
    "#while loop\n",
    "i = 0\n",
    "while True:\n",
    "    \n",
    "    \n",
    "    if i < 10:\n",
    "        print('run')\n",
    "        i += 1\n",
    "        break\n"
   ]
  },
  {
   "cell_type": "code",
   "execution_count": 25,
   "id": "9e1f3a4f",
   "metadata": {},
   "outputs": [
    {
     "name": "stdout",
     "output_type": "stream",
     "text": [
      "hlo\n"
     ]
    }
   ],
   "source": [
    "#slice operator\n",
    "x = [0,1,2,3,4,5,6,7,8]\n",
    "y = ['hi', 'hello', 'goodbye', 'cya', 'sure']\n",
    "s = \"hello\"\n",
    "\n",
    "sliced = s[::2]\n",
    "\n",
    "print(sliced)"
   ]
  },
  {
   "cell_type": "code",
   "execution_count": 32,
   "id": "8bbe366e",
   "metadata": {},
   "outputs": [
    {
     "data": {
      "text/plain": [
       "True"
      ]
     },
     "execution_count": 32,
     "metadata": {},
     "output_type": "execute_result"
    }
   ],
   "source": [
    "[2,2,12,2,12,21,2]\n",
    "x = set()\n",
    "s = {4,32,2,2}\n",
    "s.add(5)\n",
    "5 in s"
   ]
  },
  {
   "cell_type": "code",
   "execution_count": 43,
   "id": "88096659",
   "metadata": {},
   "outputs": [
    {
     "name": "stdout",
     "output_type": "stream",
     "text": [
      "{'key': 4, 'key2': 5, 2: [1, 3, 4, 5, 6, 7]}\n"
     ]
    }
   ],
   "source": [
    "x = {'key': 4}\n",
    "x['key2'] = 5\n",
    "x[2] = [1,3,4,5,6,7]\n",
    "\n",
    "print(x)"
   ]
  },
  {
   "cell_type": "code",
   "execution_count": 47,
   "id": "0b1251fe",
   "metadata": {},
   "outputs": [
    {
     "name": "stdout",
     "output_type": "stream",
     "text": [
      "key 4\n",
      "key2 5\n",
      "2 [1, 3, 4, 5, 6, 7]\n"
     ]
    }
   ],
   "source": [
    "for key in x:\n",
    "    print(key, x[key])"
   ]
  },
  {
   "cell_type": "code",
   "execution_count": 50,
   "id": "2ecafde9",
   "metadata": {},
   "outputs": [
    {
     "name": "stdout",
     "output_type": "stream",
     "text": [
      "[[0, 10, 20, 30, 40], [0, 10, 20, 30, 40], [0, 10, 20, 30, 40], [0, 10, 20, 30, 40], [0, 10, 20, 30, 40]]\n"
     ]
    }
   ],
   "source": [
    "#comprehensions\n",
    "x = [[x*10 for x in range(5)] for x in range(5)]\n",
    "print(x)\n"
   ]
  },
  {
   "cell_type": "code",
   "execution_count": 64,
   "id": "41dbedb3",
   "metadata": {},
   "outputs": [
    {
     "name": "stdout",
     "output_type": "stream",
     "text": [
      "30 0.8333333333333334\n"
     ]
    }
   ],
   "source": [
    "#function\n",
    "def func(x,y):\n",
    "\n",
    "    return x * y, x / y\n",
    "\n",
    "\n",
    "r1, r2 = func(5,6)\n",
    "print(r1, r2)"
   ]
  },
  {
   "cell_type": "code",
   "execution_count": 67,
   "id": "e0c6f9ce",
   "metadata": {},
   "outputs": [
    {
     "name": "stdout",
     "output_type": "stream",
     "text": [
      "3 7\n"
     ]
    }
   ],
   "source": [
    "#args and kwargs\n",
    "\n",
    "def func(x):\n",
    "    def func2(y):\n",
    "        print(x, y)\n",
    "    return func2\n",
    "\n",
    "func(3)(7)"
   ]
  },
  {
   "cell_type": "code",
   "execution_count": 68,
   "id": "01435a87",
   "metadata": {},
   "outputs": [
    {
     "name": "stdout",
     "output_type": "stream",
     "text": [
      "1 23 43435535 2344\n"
     ]
    }
   ],
   "source": [
    "#args - arguments\n",
    "#kwargs - key word arguments\n",
    "def func (*args, **kwargs):\n",
    "    pass\n",
    "\n",
    "x = [1,23,43435535,2344]\n",
    "print(*x)"
   ]
  },
  {
   "cell_type": "code",
   "execution_count": 71,
   "id": "0bed0bb4",
   "metadata": {},
   "outputs": [
    {
     "name": "stdout",
     "output_type": "stream",
     "text": [
      "2 5\n"
     ]
    }
   ],
   "source": [
    "def func(x,y):\n",
    "    print(x,y)\n",
    "\n",
    "pairs = [(1,2), (3,4)]\n",
    "\n",
    "\n",
    "func(**{'x': 2, 'y':5})"
   ]
  },
  {
   "cell_type": "code",
   "execution_count": 74,
   "id": "2ce689e9",
   "metadata": {},
   "outputs": [
    {
     "name": "stdout",
     "output_type": "stream",
     "text": [
      "1 2 3 4 5\n"
     ]
    }
   ],
   "source": [
    "def func(*args, **kwargs):\n",
    "    print(*args)\n",
    "    \n",
    "func(1,2,3,4,5,one=0, two=1)"
   ]
  },
  {
   "cell_type": "code",
   "execution_count": 78,
   "id": "1b9f3d52",
   "metadata": {},
   "outputs": [
    {
     "name": "stdout",
     "output_type": "stream",
     "text": [
      "division by zero\n",
      "finally\n"
     ]
    }
   ],
   "source": [
    "try:\n",
    "    x = 7 / 0\n",
    "except Exception as e:\n",
    "    print(e)\n",
    "finally:\n",
    "    print('finally')"
   ]
  },
  {
   "cell_type": "code",
   "execution_count": 82,
   "id": "94594dc8",
   "metadata": {},
   "outputs": [
    {
     "data": {
      "text/plain": [
       "6"
      ]
     },
     "execution_count": 82,
     "metadata": {},
     "output_type": "execute_result"
    }
   ],
   "source": [
    "#lambda\n",
    "\n",
    "x = lambda x: x + 5\n",
    "x(1)"
   ]
  },
  {
   "cell_type": "code",
   "execution_count": 90,
   "id": "9de13ae2",
   "metadata": {},
   "outputs": [
    {
     "name": "stdout",
     "output_type": "stream",
     "text": [
      "[3, 4, 6, 7, 5, 23, 23, 4, 7, 8, 9, 10, 11, 315, 4548, 5770, 68, 9, 880, 69]\n"
     ]
    }
   ],
   "source": [
    "#map and filter\n",
    "x = [1,2,4,5,3,21,21,2,5,6,7,8,9, 313,4546,5768,66,7,878,67]\n",
    "\n",
    "mp = map(lambda i: i + 2, x)\n",
    "print(list(mp))\n"
   ]
  },
  {
   "cell_type": "code",
   "execution_count": 94,
   "id": "25d141a2",
   "metadata": {},
   "outputs": [
    {
     "name": "stdout",
     "output_type": "stream",
     "text": [
      "[2, 4, 2, 6, 8, 4546, 5768, 66, 878]\n"
     ]
    }
   ],
   "source": [
    "mp2 = filter(lambda i: i%2 == 0, x)\n",
    "print(list(mp2))"
   ]
  },
  {
   "cell_type": "code",
   "execution_count": 95,
   "id": "ac1f261e",
   "metadata": {},
   "outputs": [
    {
     "data": {
      "text/plain": [
       "'hello 14'"
      ]
     },
     "execution_count": 95,
     "metadata": {},
     "output_type": "execute_result"
    }
   ],
   "source": [
    "# fstrings\n",
    "x = f'hello {6 + 8}'\n",
    "x"
   ]
  },
  {
   "cell_type": "code",
   "execution_count": 98,
   "id": "1460021e",
   "metadata": {},
   "outputs": [
    {
     "name": "stdout",
     "output_type": "stream",
     "text": [
      "[10, 9, 12]\n"
     ]
    }
   ],
   "source": [
    "items = [\n",
    "    (\"product1\", 10),\n",
    "    ('product2', 9),\n",
    "    ('product3', 12),\n",
    "]\n",
    "prices = []\n",
    "for item in items:\n",
    "    prices.append(item[1])\n",
    "    \n",
    "print (prices)\n",
    "    "
   ]
  },
  {
   "cell_type": "code",
   "execution_count": 103,
   "id": "9c054a9d",
   "metadata": {},
   "outputs": [
    {
     "name": "stdout",
     "output_type": "stream",
     "text": [
      "[10, 9, 12]\n"
     ]
    }
   ],
   "source": [
    "items = [\n",
    "    (\"product1\", 10),\n",
    "    ('product2', 9),\n",
    "    ('product3', 12),\n",
    "]\n",
    "\n",
    "def funec(item):\n",
    "    return item[i]\n",
    "\n",
    "prices = list(map(funec, items))\n",
    "\n",
    "print (prices)"
   ]
  },
  {
   "cell_type": "code",
   "execution_count": null,
   "id": "c5c68d14",
   "metadata": {},
   "outputs": [],
   "source": []
  },
  {
   "cell_type": "code",
   "execution_count": null,
   "id": "68a1e209",
   "metadata": {},
   "outputs": [],
   "source": []
  },
  {
   "cell_type": "code",
   "execution_count": null,
   "id": "9008220f",
   "metadata": {},
   "outputs": [],
   "source": []
  },
  {
   "cell_type": "code",
   "execution_count": null,
   "id": "2fd12cdf",
   "metadata": {},
   "outputs": [],
   "source": []
  },
  {
   "cell_type": "code",
   "execution_count": null,
   "id": "20bf851c",
   "metadata": {},
   "outputs": [],
   "source": []
  },
  {
   "cell_type": "code",
   "execution_count": null,
   "id": "bba1f854",
   "metadata": {},
   "outputs": [],
   "source": []
  },
  {
   "cell_type": "code",
   "execution_count": null,
   "id": "ca2a08b7",
   "metadata": {},
   "outputs": [],
   "source": []
  },
  {
   "cell_type": "code",
   "execution_count": null,
   "id": "df949267",
   "metadata": {},
   "outputs": [],
   "source": []
  },
  {
   "cell_type": "code",
   "execution_count": null,
   "id": "b8767250",
   "metadata": {},
   "outputs": [],
   "source": []
  },
  {
   "cell_type": "code",
   "execution_count": null,
   "id": "a0b1aaa3",
   "metadata": {},
   "outputs": [],
   "source": []
  }
 ],
 "metadata": {
  "kernelspec": {
   "display_name": "Python 3",
   "language": "python",
   "name": "python3"
  },
  "language_info": {
   "codemirror_mode": {
    "name": "ipython",
    "version": 3
   },
   "file_extension": ".py",
   "mimetype": "text/x-python",
   "name": "python",
   "nbconvert_exporter": "python",
   "pygments_lexer": "ipython3",
   "version": "3.8.3"
  }
 },
 "nbformat": 4,
 "nbformat_minor": 5
}
