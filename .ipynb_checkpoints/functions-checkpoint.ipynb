{
 "cells": [
  {
   "cell_type": "code",
   "execution_count": 7,
   "id": "3e6b9f05",
   "metadata": {},
   "outputs": [
    {
     "name": "stdout",
     "output_type": "stream",
     "text": [
      "Hi Nihal\n",
      "\n"
     ]
    }
   ],
   "source": [
    "#perform a task\n",
    "\n",
    "def greet(name):\n",
    "    print(f\"Hi {name}\")\n",
    "    print(\"\")\n",
    "    \n",
    "greet(\"Nihal\")"
   ]
  },
  {
   "cell_type": "code",
   "execution_count": 8,
   "id": "b449cd23",
   "metadata": {},
   "outputs": [],
   "source": [
    "def greetret(name):\n",
    "    return f\"Hi {name}\""
   ]
  },
  {
   "cell_type": "code",
   "execution_count": 13,
   "id": "48c081cd",
   "metadata": {},
   "outputs": [
    {
     "name": "stdout",
     "output_type": "stream",
     "text": [
      "Hi Nihal\n",
      "\n",
      "None\n"
     ]
    }
   ],
   "source": [
    "print(greet(\"Nihal\"))"
   ]
  },
  {
   "cell_type": "code",
   "execution_count": 21,
   "id": "4e489630",
   "metadata": {},
   "outputs": [
    {
     "name": "stdout",
     "output_type": "stream",
     "text": [
      "7\n"
     ]
    }
   ],
   "source": [
    "def increment(number, by=1):\n",
    "    return number + by\n",
    "\n",
    "print(increment(2, 5))"
   ]
  },
  {
   "cell_type": "code",
   "execution_count": 30,
   "id": "b2548c37",
   "metadata": {},
   "outputs": [
    {
     "name": "stdout",
     "output_type": "stream",
     "text": [
      "120\n"
     ]
    }
   ],
   "source": [
    "a = [2,3,4,5]\n",
    "\n",
    "def multiply(*numbers):\n",
    "    total = 1\n",
    "    for number in numbers:\n",
    "        total *= number\n",
    "    return total\n",
    "    \n",
    "print(multiply(2,3,4,5))"
   ]
  },
  {
   "cell_type": "code",
   "execution_count": 32,
   "id": "ac8e1c03",
   "metadata": {},
   "outputs": [
    {
     "name": "stdout",
     "output_type": "stream",
     "text": [
      "1\n"
     ]
    }
   ],
   "source": [
    "def save_user(**user):\n",
    "    print(user[\"id\"])\n",
    "    \n",
    "save_user(id=1, name=\"John\", age=22)"
   ]
  },
  {
   "cell_type": "code",
   "execution_count": 37,
   "id": "951ef006",
   "metadata": {},
   "outputs": [
    {
     "name": "stdout",
     "output_type": "stream",
     "text": [
      "a\n"
     ]
    }
   ],
   "source": [
    "message = \"a\"\n",
    "    \n",
    "def greet(name):\n",
    "\n",
    "    message=\"b\"\n",
    "    \n",
    "greet(\"Mosh\")\n",
    "print(message)"
   ]
  },
  {
   "cell_type": "code",
   "execution_count": 42,
   "id": "216cf436",
   "metadata": {},
   "outputs": [
    {
     "name": "stdout",
     "output_type": "stream",
     "text": [
      "fizzbuzz\n"
     ]
    }
   ],
   "source": [
    "def fizz_buzz(input):\n",
    "    if (input % 3 == 0) & (input % 5 == 0):\n",
    "        return \"fizzbuzz\"\n",
    "    if input % 3 == 0:\n",
    "        return \"fizz\"\n",
    "    if input % 5 == 0:\n",
    "        return \"buzz\"\n",
    "    return input\n",
    "    \n",
    "print(fizz_buzz(15)) "
   ]
  },
  {
   "cell_type": "code",
   "execution_count": null,
   "id": "9159b30c",
   "metadata": {},
   "outputs": [],
   "source": []
  }
 ],
 "metadata": {
  "kernelspec": {
   "display_name": "Python 3",
   "language": "python",
   "name": "python3"
  },
  "language_info": {
   "codemirror_mode": {
    "name": "ipython",
    "version": 3
   },
   "file_extension": ".py",
   "mimetype": "text/x-python",
   "name": "python",
   "nbconvert_exporter": "python",
   "pygments_lexer": "ipython3",
   "version": "3.8.3"
  }
 },
 "nbformat": 4,
 "nbformat_minor": 5
}
